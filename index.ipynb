{
 "cells": [
  {
   "cell_type": "markdown",
   "metadata": {},
   "source": [
    "# Performing Principal Component Analysis (PCA) - Lab\n",
    "\n",
    "## Introduction\n",
    "\n",
    "Now that you have high level overview of PCA as well as some of the details in the algorithm itself, its time to practice implementing PCA on your own using the NumPy package. \n",
    "\n",
    "## Objectives\n",
    "\n",
    "You will be able to:\n",
    "    \n",
    "* Implement PCA from scratch using NumPy"
   ]
  },
  {
   "cell_type": "markdown",
   "metadata": {},
   "source": [
    "## Import the Data\n",
    "\n",
    "To start, import the data stored in the file 'foodusa.csv'."
   ]
  },
  {
   "cell_type": "code",
   "execution_count": 5,
   "metadata": {},
   "outputs": [],
   "source": [
    "#Your code here\n",
    "import pandas as pd\n",
    "import numpy as np \n",
    "food = pd.read_csv('foodusa.csv',index_col=0)"
   ]
  },
  {
   "cell_type": "code",
   "execution_count": 6,
   "metadata": {},
   "outputs": [
    {
     "data": {
      "text/html": [
       "<div>\n",
       "<style scoped>\n",
       "    .dataframe tbody tr th:only-of-type {\n",
       "        vertical-align: middle;\n",
       "    }\n",
       "\n",
       "    .dataframe tbody tr th {\n",
       "        vertical-align: top;\n",
       "    }\n",
       "\n",
       "    .dataframe thead th {\n",
       "        text-align: right;\n",
       "    }\n",
       "</style>\n",
       "<table border=\"1\" class=\"dataframe\">\n",
       "  <thead>\n",
       "    <tr style=\"text-align: right;\">\n",
       "      <th></th>\n",
       "      <th>Bread</th>\n",
       "      <th>Burger</th>\n",
       "      <th>Milk</th>\n",
       "      <th>Oranges</th>\n",
       "      <th>Tomatoes</th>\n",
       "    </tr>\n",
       "    <tr>\n",
       "      <th>City</th>\n",
       "      <th></th>\n",
       "      <th></th>\n",
       "      <th></th>\n",
       "      <th></th>\n",
       "      <th></th>\n",
       "    </tr>\n",
       "  </thead>\n",
       "  <tbody>\n",
       "    <tr>\n",
       "      <th>ATLANTA</th>\n",
       "      <td>24.5</td>\n",
       "      <td>94.5</td>\n",
       "      <td>73.9</td>\n",
       "      <td>80.1</td>\n",
       "      <td>41.6</td>\n",
       "    </tr>\n",
       "    <tr>\n",
       "      <th>BALTIMORE</th>\n",
       "      <td>26.5</td>\n",
       "      <td>91.0</td>\n",
       "      <td>67.5</td>\n",
       "      <td>74.6</td>\n",
       "      <td>53.3</td>\n",
       "    </tr>\n",
       "  </tbody>\n",
       "</table>\n",
       "</div>"
      ],
      "text/plain": [
       "           Bread  Burger  Milk  Oranges  Tomatoes\n",
       "City                                             \n",
       "ATLANTA     24.5    94.5  73.9     80.1      41.6\n",
       "BALTIMORE   26.5    91.0  67.5     74.6      53.3"
      ]
     },
     "execution_count": 6,
     "metadata": {},
     "output_type": "execute_result"
    }
   ],
   "source": [
    "food.head(2)"
   ]
  },
  {
   "cell_type": "markdown",
   "metadata": {},
   "source": [
    "## Normalize the Data\n",
    "\n",
    "Next, normalize your data by subtracting the feature mean from each of the columns"
   ]
  },
  {
   "cell_type": "code",
   "execution_count": 10,
   "metadata": {},
   "outputs": [],
   "source": [
    "#Your code here\n",
    "mean_centered = food-food.mean()"
   ]
  },
  {
   "cell_type": "markdown",
   "metadata": {},
   "source": [
    "## Calculate the Covariance Matrix\n",
    "\n",
    "The next step for PCA is to calculate to covariance matrix for your normalized data. Do so here."
   ]
  },
  {
   "cell_type": "code",
   "execution_count": 24,
   "metadata": {},
   "outputs": [],
   "source": [
    "#Your code here\n",
    "cov_matrix = np.cov([mean_centered.Bread,mean_centered.Burger,mean_centered.Milk,mean_centered.Oranges,mean_centered.Tomatoes])"
   ]
  },
  {
   "cell_type": "code",
   "execution_count": 26,
   "metadata": {},
   "outputs": [
    {
     "data": {
      "text/plain": [
       "(5, 5)"
      ]
     },
     "execution_count": 26,
     "metadata": {},
     "output_type": "execute_result"
    }
   ],
   "source": [
    "cov_matrix.shape"
   ]
  },
  {
   "cell_type": "markdown",
   "metadata": {},
   "source": [
    "## Calculate the Eigenvectors\n",
    "\n",
    "Next, calculate the eigenvectors for your covariance matrix."
   ]
  },
  {
   "cell_type": "code",
   "execution_count": 29,
   "metadata": {},
   "outputs": [
    {
     "data": {
      "text/plain": [
       "array([[-0.02848905, -0.16532108, -0.96716354, -0.18972574,  0.02135748],\n",
       "       [-0.2001224 , -0.63218494,  0.24877074, -0.65862454,  0.25420475],\n",
       "       [-0.0416723 , -0.44215032,  0.03606094,  0.10765906, -0.88874949],\n",
       "       [-0.93885906,  0.31435473, -0.01521357, -0.06904699, -0.12135003],\n",
       "       [-0.27558389, -0.52791603, -0.03429221,  0.71684022,  0.36100184]])"
      ]
     },
     "execution_count": 29,
     "metadata": {},
     "output_type": "execute_result"
    }
   ],
   "source": [
    "#Your code here\n",
    "eigenvalue, eigenvector = np.linalg.eig(cov_matrix)\n",
    "eigenvector"
   ]
  },
  {
   "cell_type": "code",
   "execution_count": 30,
   "metadata": {},
   "outputs": [
    {
     "data": {
      "text/plain": [
       "array([218.99867893,  91.72316894,   3.02922934,  20.81054128,\n",
       "        37.66268981])"
      ]
     },
     "execution_count": 30,
     "metadata": {},
     "output_type": "execute_result"
    }
   ],
   "source": [
    "eigenvalue"
   ]
  },
  {
   "cell_type": "markdown",
   "metadata": {},
   "source": [
    "## Sorting the Eigenvectors to Determine Primary Components\n",
    "\n",
    "Great! Now that you have the eigenvectors and their associated eigenvalues, sort the eigenvectors based on their eigenvalues!"
   ]
  },
  {
   "cell_type": "code",
   "execution_count": 36,
   "metadata": {},
   "outputs": [],
   "source": [
    "#Your code here\n",
    "ind = np.argsort(eigenvalue)[::-1]\n",
    "sorted_eigenvector = eigenvector[:,ind]"
   ]
  },
  {
   "cell_type": "code",
   "execution_count": 37,
   "metadata": {},
   "outputs": [
    {
     "data": {
      "text/plain": [
       "array([[-0.02848905, -0.16532108,  0.02135748, -0.18972574, -0.96716354],\n",
       "       [-0.2001224 , -0.63218494,  0.25420475, -0.65862454,  0.24877074],\n",
       "       [-0.0416723 , -0.44215032, -0.88874949,  0.10765906,  0.03606094],\n",
       "       [-0.93885906,  0.31435473, -0.12135003, -0.06904699, -0.01521357],\n",
       "       [-0.27558389, -0.52791603,  0.36100184,  0.71684022, -0.03429221]])"
      ]
     },
     "execution_count": 37,
     "metadata": {},
     "output_type": "execute_result"
    }
   ],
   "source": [
    "sorted_eigenvector"
   ]
  },
  {
   "cell_type": "markdown",
   "metadata": {},
   "source": [
    "## Reprojecting the Data\n",
    "\n",
    "Finally, reproject the dataset using your eigenvectors. Reproject the dataset down to 2 dimensions."
   ]
  },
  {
   "cell_type": "code",
   "execution_count": 38,
   "metadata": {},
   "outputs": [
    {
     "data": {
      "text/plain": [
       "array([[ 1.11063671e+01,  1.47313493e+01, -1.41720384e+01,\n",
       "         1.85530932e+00, -1.31519693e+01],\n",
       "       [ 1.21900301e+00,  2.14498941e+01, -7.19007196e+00,\n",
       "        -1.44250494e-01, -1.85096828e+01],\n",
       "       [-1.22936562e+01, -4.73286484e+00, -2.84276415e+00,\n",
       "        -1.45351480e+00, -5.90817824e+00],\n",
       "       [-4.27410508e+00, -4.95746329e+00,  1.50456490e+00,\n",
       "        -7.78972241e-01,  1.55082192e+01],\n",
       "       [-2.08570219e+00,  1.77071529e+00,  2.26283823e+00,\n",
       "        -3.23048970e+00,  4.48154292e+00],\n",
       "       [ 2.02322957e+00, -4.83130671e+00, -6.11053639e+00,\n",
       "         3.51881382e+00, -7.79622091e+00],\n",
       "       [ 7.65139684e-01, -5.78241861e+00,  1.10305914e+01,\n",
       "         2.06281561e+00,  4.46446433e+00],\n",
       "       [ 5.01990281e+00, -7.08302707e+00,  4.06579025e+00,\n",
       "        -1.07688088e+00,  1.49042564e+01],\n",
       "       [-5.28963606e+00, -7.18560259e+00,  9.68250581e+00,\n",
       "         2.48951246e+00,  1.42270390e-01],\n",
       "       [-2.02949124e+01, -2.18073279e+01, -1.85701795e+01,\n",
       "        -3.80426303e+00,  1.91562387e+01],\n",
       "       [ 6.65984778e+00,  1.94000258e+00, -7.42416849e-01,\n",
       "        -7.45442129e-01,  1.14090012e+01],\n",
       "       [ 6.31128707e+00,  2.48929146e+00, -1.91129558e+00,\n",
       "        -1.83629547e+00,  1.15031956e+00],\n",
       "       [ 1.41212720e+01,  1.05305030e+01,  3.92251421e+00,\n",
       "        -1.55403072e-02, -1.54844202e+01],\n",
       "       [-6.30360841e+00, -4.25846371e+00,  9.88972851e+00,\n",
       "         4.32139840e+00,  5.63817529e+00],\n",
       "       [-2.70119271e+00, -4.22170394e+00,  9.50975319e+00,\n",
       "         1.78134773e+00, -1.65325881e+00],\n",
       "       [-1.73910140e+01, -1.14694373e+01, -1.08906817e+01,\n",
       "        -2.05853787e-01, -7.51438474e+00],\n",
       "       [-1.15197783e+01,  7.50279463e+00, -4.14838913e+00,\n",
       "         4.95715366e-01, -2.44760089e+00],\n",
       "       [-3.85046231e+00, -1.21140036e+01,  1.79610605e+00,\n",
       "        -4.67219399e-01,  7.21772639e+00],\n",
       "       [ 2.74271656e-02, -9.57890292e+00,  2.24969857e+00,\n",
       "        -1.57949530e+00,  7.60802586e+00],\n",
       "       [ 1.60893014e+01,  7.15585369e+00,  6.72507136e+00,\n",
       "        -1.21033801e+00, -4.51050864e+00],\n",
       "       [ 7.92495397e+00,  7.66673795e-01,  5.22195144e+00,\n",
       "        -1.76459983e+00,  1.85791557e-01],\n",
       "       [ 8.40796253e+00,  1.63033381e+01,  5.21880132e+00,\n",
       "        -9.13788367e-01, -2.55655946e-01],\n",
       "       [ 6.32837355e+00,  1.33821066e+01, -6.50154157e+00,\n",
       "         2.70203105e+00, -1.46341513e+01]])"
      ]
     },
     "execution_count": 38,
     "metadata": {},
     "output_type": "execute_result"
    }
   ],
   "source": [
    "#Your code here\n",
    "transformed = sorted_eigenvector.dot(mean_centered.T).T\n",
    "transformed"
   ]
  },
  {
   "cell_type": "markdown",
   "metadata": {},
   "source": [
    "## Summary\n",
    "\n",
    "Well done! You've now coded PCA on your own using NumPy! With that, it's time to look at further application of PCA."
   ]
  }
 ],
 "metadata": {
  "kernelspec": {
   "display_name": "Python 3",
   "language": "python",
   "name": "python3"
  },
  "language_info": {
   "codemirror_mode": {
    "name": "ipython",
    "version": 3
   },
   "file_extension": ".py",
   "mimetype": "text/x-python",
   "name": "python",
   "nbconvert_exporter": "python",
   "pygments_lexer": "ipython3",
   "version": "3.6.6"
  }
 },
 "nbformat": 4,
 "nbformat_minor": 2
}
